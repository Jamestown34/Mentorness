{
 "cells": [
  {
   "cell_type": "code",
   "execution_count": 1,
   "id": "a3869c2f",
   "metadata": {},
   "outputs": [],
   "source": [
    "import pandas as pd \n",
    "import numpy as np"
   ]
  },
  {
   "cell_type": "markdown",
   "id": "2a6607ce",
   "metadata": {},
   "source": [
    "### importin the csv file"
   ]
  },
  {
   "cell_type": "code",
   "execution_count": 2,
   "id": "d8b6ed68",
   "metadata": {},
   "outputs": [],
   "source": [
    "df = pd.read_csv('test_data.csv')"
   ]
  },
  {
   "cell_type": "code",
   "execution_count": 3,
   "id": "5c05e464",
   "metadata": {
    "scrolled": true
   },
   "outputs": [
    {
     "data": {
      "text/html": [
       "<div>\n",
       "<style scoped>\n",
       "    .dataframe tbody tr th:only-of-type {\n",
       "        vertical-align: middle;\n",
       "    }\n",
       "\n",
       "    .dataframe tbody tr th {\n",
       "        vertical-align: top;\n",
       "    }\n",
       "\n",
       "    .dataframe thead th {\n",
       "        text-align: right;\n",
       "    }\n",
       "</style>\n",
       "<table border=\"1\" class=\"dataframe\">\n",
       "  <thead>\n",
       "    <tr style=\"text-align: right;\">\n",
       "      <th></th>\n",
       "      <th>Glucose</th>\n",
       "      <th>Cholesterol</th>\n",
       "      <th>Hemoglobin</th>\n",
       "      <th>Platelets</th>\n",
       "      <th>White Blood Cells</th>\n",
       "      <th>Red Blood Cells</th>\n",
       "      <th>Hematocrit</th>\n",
       "      <th>Mean Corpuscular Volume</th>\n",
       "      <th>Mean Corpuscular Hemoglobin</th>\n",
       "      <th>Mean Corpuscular Hemoglobin Concentration</th>\n",
       "      <th>...</th>\n",
       "      <th>HbA1c</th>\n",
       "      <th>LDL Cholesterol</th>\n",
       "      <th>HDL Cholesterol</th>\n",
       "      <th>ALT</th>\n",
       "      <th>AST</th>\n",
       "      <th>Heart Rate</th>\n",
       "      <th>Creatinine</th>\n",
       "      <th>Troponin</th>\n",
       "      <th>C-reactive Protein</th>\n",
       "      <th>Disease</th>\n",
       "    </tr>\n",
       "  </thead>\n",
       "  <tbody>\n",
       "    <tr>\n",
       "      <th>0</th>\n",
       "      <td>0.001827</td>\n",
       "      <td>0.033693</td>\n",
       "      <td>0.114755</td>\n",
       "      <td>0.997927</td>\n",
       "      <td>0.562604</td>\n",
       "      <td>0.866499</td>\n",
       "      <td>0.578042</td>\n",
       "      <td>0.914615</td>\n",
       "      <td>0.026864</td>\n",
       "      <td>0.038641</td>\n",
       "      <td>...</td>\n",
       "      <td>0.653230</td>\n",
       "      <td>0.186104</td>\n",
       "      <td>0.430398</td>\n",
       "      <td>0.016678</td>\n",
       "      <td>0.885352</td>\n",
       "      <td>0.652733</td>\n",
       "      <td>0.788235</td>\n",
       "      <td>0.054788</td>\n",
       "      <td>0.031313</td>\n",
       "      <td>Thalasse</td>\n",
       "    </tr>\n",
       "    <tr>\n",
       "      <th>1</th>\n",
       "      <td>0.436679</td>\n",
       "      <td>0.972653</td>\n",
       "      <td>0.084998</td>\n",
       "      <td>0.180909</td>\n",
       "      <td>0.675736</td>\n",
       "      <td>0.563889</td>\n",
       "      <td>0.798382</td>\n",
       "      <td>0.670361</td>\n",
       "      <td>0.376092</td>\n",
       "      <td>0.184890</td>\n",
       "      <td>...</td>\n",
       "      <td>0.833540</td>\n",
       "      <td>0.153001</td>\n",
       "      <td>0.458533</td>\n",
       "      <td>0.401845</td>\n",
       "      <td>0.635969</td>\n",
       "      <td>0.574425</td>\n",
       "      <td>0.047025</td>\n",
       "      <td>0.607985</td>\n",
       "      <td>0.594123</td>\n",
       "      <td>Diabetes</td>\n",
       "    </tr>\n",
       "    <tr>\n",
       "      <th>2</th>\n",
       "      <td>0.545697</td>\n",
       "      <td>0.324815</td>\n",
       "      <td>0.584467</td>\n",
       "      <td>0.475748</td>\n",
       "      <td>0.558596</td>\n",
       "      <td>0.661007</td>\n",
       "      <td>0.934056</td>\n",
       "      <td>0.381782</td>\n",
       "      <td>0.500342</td>\n",
       "      <td>0.531829</td>\n",
       "      <td>...</td>\n",
       "      <td>0.678901</td>\n",
       "      <td>0.220479</td>\n",
       "      <td>0.817151</td>\n",
       "      <td>0.690981</td>\n",
       "      <td>0.101633</td>\n",
       "      <td>0.855740</td>\n",
       "      <td>0.551124</td>\n",
       "      <td>0.413294</td>\n",
       "      <td>0.070909</td>\n",
       "      <td>Heart Di</td>\n",
       "    </tr>\n",
       "    <tr>\n",
       "      <th>3</th>\n",
       "      <td>0.172994</td>\n",
       "      <td>0.050351</td>\n",
       "      <td>0.736000</td>\n",
       "      <td>0.782022</td>\n",
       "      <td>0.069435</td>\n",
       "      <td>0.085219</td>\n",
       "      <td>0.032907</td>\n",
       "      <td>0.460619</td>\n",
       "      <td>0.785448</td>\n",
       "      <td>0.491495</td>\n",
       "      <td>...</td>\n",
       "      <td>0.381500</td>\n",
       "      <td>0.459396</td>\n",
       "      <td>0.420154</td>\n",
       "      <td>0.798537</td>\n",
       "      <td>0.399236</td>\n",
       "      <td>0.324600</td>\n",
       "      <td>0.499504</td>\n",
       "      <td>0.436662</td>\n",
       "      <td>0.242766</td>\n",
       "      <td>Diabetes</td>\n",
       "    </tr>\n",
       "    <tr>\n",
       "      <th>4</th>\n",
       "      <td>0.758534</td>\n",
       "      <td>0.739968</td>\n",
       "      <td>0.597868</td>\n",
       "      <td>0.772683</td>\n",
       "      <td>0.875720</td>\n",
       "      <td>0.860265</td>\n",
       "      <td>0.486189</td>\n",
       "      <td>0.486686</td>\n",
       "      <td>0.621048</td>\n",
       "      <td>0.191756</td>\n",
       "      <td>...</td>\n",
       "      <td>0.993381</td>\n",
       "      <td>0.272338</td>\n",
       "      <td>0.663579</td>\n",
       "      <td>0.265227</td>\n",
       "      <td>0.918847</td>\n",
       "      <td>0.804910</td>\n",
       "      <td>0.571119</td>\n",
       "      <td>0.188368</td>\n",
       "      <td>0.750848</td>\n",
       "      <td>Heart Di</td>\n",
       "    </tr>\n",
       "    <tr>\n",
       "      <th>...</th>\n",
       "      <td>...</td>\n",
       "      <td>...</td>\n",
       "      <td>...</td>\n",
       "      <td>...</td>\n",
       "      <td>...</td>\n",
       "      <td>...</td>\n",
       "      <td>...</td>\n",
       "      <td>...</td>\n",
       "      <td>...</td>\n",
       "      <td>...</td>\n",
       "      <td>...</td>\n",
       "      <td>...</td>\n",
       "      <td>...</td>\n",
       "      <td>...</td>\n",
       "      <td>...</td>\n",
       "      <td>...</td>\n",
       "      <td>...</td>\n",
       "      <td>...</td>\n",
       "      <td>...</td>\n",
       "      <td>...</td>\n",
       "      <td>...</td>\n",
       "    </tr>\n",
       "    <tr>\n",
       "      <th>481</th>\n",
       "      <td>0.985163</td>\n",
       "      <td>0.412960</td>\n",
       "      <td>0.529993</td>\n",
       "      <td>0.263765</td>\n",
       "      <td>0.431288</td>\n",
       "      <td>0.198882</td>\n",
       "      <td>0.581289</td>\n",
       "      <td>0.701192</td>\n",
       "      <td>0.249410</td>\n",
       "      <td>0.246893</td>\n",
       "      <td>...</td>\n",
       "      <td>0.680556</td>\n",
       "      <td>0.048191</td>\n",
       "      <td>0.465272</td>\n",
       "      <td>0.066511</td>\n",
       "      <td>0.965544</td>\n",
       "      <td>0.015051</td>\n",
       "      <td>0.442730</td>\n",
       "      <td>0.196986</td>\n",
       "      <td>0.816038</td>\n",
       "      <td>Diabetes</td>\n",
       "    </tr>\n",
       "    <tr>\n",
       "      <th>482</th>\n",
       "      <td>0.581914</td>\n",
       "      <td>0.629325</td>\n",
       "      <td>0.491644</td>\n",
       "      <td>0.901473</td>\n",
       "      <td>0.347797</td>\n",
       "      <td>0.633286</td>\n",
       "      <td>0.698114</td>\n",
       "      <td>0.516947</td>\n",
       "      <td>0.674259</td>\n",
       "      <td>0.798153</td>\n",
       "      <td>...</td>\n",
       "      <td>0.261767</td>\n",
       "      <td>0.482322</td>\n",
       "      <td>0.799523</td>\n",
       "      <td>0.807460</td>\n",
       "      <td>0.325313</td>\n",
       "      <td>0.825194</td>\n",
       "      <td>0.777866</td>\n",
       "      <td>0.415987</td>\n",
       "      <td>0.842804</td>\n",
       "      <td>Heart Di</td>\n",
       "    </tr>\n",
       "    <tr>\n",
       "      <th>483</th>\n",
       "      <td>0.066669</td>\n",
       "      <td>0.404558</td>\n",
       "      <td>0.591041</td>\n",
       "      <td>0.228401</td>\n",
       "      <td>0.127461</td>\n",
       "      <td>0.026670</td>\n",
       "      <td>0.847444</td>\n",
       "      <td>0.279740</td>\n",
       "      <td>0.575425</td>\n",
       "      <td>0.156438</td>\n",
       "      <td>...</td>\n",
       "      <td>0.168146</td>\n",
       "      <td>0.763625</td>\n",
       "      <td>0.677782</td>\n",
       "      <td>0.890501</td>\n",
       "      <td>0.638825</td>\n",
       "      <td>0.559993</td>\n",
       "      <td>0.795478</td>\n",
       "      <td>0.669925</td>\n",
       "      <td>0.124874</td>\n",
       "      <td>Anemia</td>\n",
       "    </tr>\n",
       "    <tr>\n",
       "      <th>484</th>\n",
       "      <td>0.901444</td>\n",
       "      <td>0.430680</td>\n",
       "      <td>0.243853</td>\n",
       "      <td>0.825551</td>\n",
       "      <td>0.493884</td>\n",
       "      <td>0.726299</td>\n",
       "      <td>0.660930</td>\n",
       "      <td>0.445560</td>\n",
       "      <td>0.349782</td>\n",
       "      <td>0.343069</td>\n",
       "      <td>...</td>\n",
       "      <td>0.893448</td>\n",
       "      <td>0.500059</td>\n",
       "      <td>0.112250</td>\n",
       "      <td>0.548469</td>\n",
       "      <td>0.211496</td>\n",
       "      <td>0.938355</td>\n",
       "      <td>0.463381</td>\n",
       "      <td>0.862921</td>\n",
       "      <td>0.658526</td>\n",
       "      <td>Diabetes</td>\n",
       "    </tr>\n",
       "    <tr>\n",
       "      <th>485</th>\n",
       "      <td>0.877912</td>\n",
       "      <td>0.597809</td>\n",
       "      <td>0.730440</td>\n",
       "      <td>0.462307</td>\n",
       "      <td>0.498438</td>\n",
       "      <td>0.792822</td>\n",
       "      <td>0.976056</td>\n",
       "      <td>0.883937</td>\n",
       "      <td>0.202147</td>\n",
       "      <td>0.930649</td>\n",
       "      <td>...</td>\n",
       "      <td>0.242163</td>\n",
       "      <td>0.783372</td>\n",
       "      <td>0.568568</td>\n",
       "      <td>0.784730</td>\n",
       "      <td>0.500928</td>\n",
       "      <td>0.016738</td>\n",
       "      <td>0.104687</td>\n",
       "      <td>0.055181</td>\n",
       "      <td>0.049341</td>\n",
       "      <td>Diabetes</td>\n",
       "    </tr>\n",
       "  </tbody>\n",
       "</table>\n",
       "<p>486 rows × 25 columns</p>\n",
       "</div>"
      ],
      "text/plain": [
       "      Glucose  Cholesterol  Hemoglobin  Platelets  White Blood Cells  \\\n",
       "0    0.001827     0.033693    0.114755   0.997927           0.562604   \n",
       "1    0.436679     0.972653    0.084998   0.180909           0.675736   \n",
       "2    0.545697     0.324815    0.584467   0.475748           0.558596   \n",
       "3    0.172994     0.050351    0.736000   0.782022           0.069435   \n",
       "4    0.758534     0.739968    0.597868   0.772683           0.875720   \n",
       "..        ...          ...         ...        ...                ...   \n",
       "481  0.985163     0.412960    0.529993   0.263765           0.431288   \n",
       "482  0.581914     0.629325    0.491644   0.901473           0.347797   \n",
       "483  0.066669     0.404558    0.591041   0.228401           0.127461   \n",
       "484  0.901444     0.430680    0.243853   0.825551           0.493884   \n",
       "485  0.877912     0.597809    0.730440   0.462307           0.498438   \n",
       "\n",
       "     Red Blood Cells  Hematocrit  Mean Corpuscular Volume  \\\n",
       "0           0.866499    0.578042                 0.914615   \n",
       "1           0.563889    0.798382                 0.670361   \n",
       "2           0.661007    0.934056                 0.381782   \n",
       "3           0.085219    0.032907                 0.460619   \n",
       "4           0.860265    0.486189                 0.486686   \n",
       "..               ...         ...                      ...   \n",
       "481         0.198882    0.581289                 0.701192   \n",
       "482         0.633286    0.698114                 0.516947   \n",
       "483         0.026670    0.847444                 0.279740   \n",
       "484         0.726299    0.660930                 0.445560   \n",
       "485         0.792822    0.976056                 0.883937   \n",
       "\n",
       "     Mean Corpuscular Hemoglobin  Mean Corpuscular Hemoglobin Concentration  \\\n",
       "0                       0.026864                                   0.038641   \n",
       "1                       0.376092                                   0.184890   \n",
       "2                       0.500342                                   0.531829   \n",
       "3                       0.785448                                   0.491495   \n",
       "4                       0.621048                                   0.191756   \n",
       "..                           ...                                        ...   \n",
       "481                     0.249410                                   0.246893   \n",
       "482                     0.674259                                   0.798153   \n",
       "483                     0.575425                                   0.156438   \n",
       "484                     0.349782                                   0.343069   \n",
       "485                     0.202147                                   0.930649   \n",
       "\n",
       "     ...     HbA1c  LDL Cholesterol  HDL Cholesterol       ALT       AST  \\\n",
       "0    ...  0.653230         0.186104         0.430398  0.016678  0.885352   \n",
       "1    ...  0.833540         0.153001         0.458533  0.401845  0.635969   \n",
       "2    ...  0.678901         0.220479         0.817151  0.690981  0.101633   \n",
       "3    ...  0.381500         0.459396         0.420154  0.798537  0.399236   \n",
       "4    ...  0.993381         0.272338         0.663579  0.265227  0.918847   \n",
       "..   ...       ...              ...              ...       ...       ...   \n",
       "481  ...  0.680556         0.048191         0.465272  0.066511  0.965544   \n",
       "482  ...  0.261767         0.482322         0.799523  0.807460  0.325313   \n",
       "483  ...  0.168146         0.763625         0.677782  0.890501  0.638825   \n",
       "484  ...  0.893448         0.500059         0.112250  0.548469  0.211496   \n",
       "485  ...  0.242163         0.783372         0.568568  0.784730  0.500928   \n",
       "\n",
       "     Heart Rate  Creatinine  Troponin  C-reactive Protein   Disease  \n",
       "0      0.652733    0.788235  0.054788            0.031313  Thalasse  \n",
       "1      0.574425    0.047025  0.607985            0.594123  Diabetes  \n",
       "2      0.855740    0.551124  0.413294            0.070909  Heart Di  \n",
       "3      0.324600    0.499504  0.436662            0.242766  Diabetes  \n",
       "4      0.804910    0.571119  0.188368            0.750848  Heart Di  \n",
       "..          ...         ...       ...                 ...       ...  \n",
       "481    0.015051    0.442730  0.196986            0.816038  Diabetes  \n",
       "482    0.825194    0.777866  0.415987            0.842804  Heart Di  \n",
       "483    0.559993    0.795478  0.669925            0.124874    Anemia  \n",
       "484    0.938355    0.463381  0.862921            0.658526  Diabetes  \n",
       "485    0.016738    0.104687  0.055181            0.049341  Diabetes  \n",
       "\n",
       "[486 rows x 25 columns]"
      ]
     },
     "execution_count": 3,
     "metadata": {},
     "output_type": "execute_result"
    }
   ],
   "source": [
    "df\n"
   ]
  },
  {
   "cell_type": "markdown",
   "id": "0aef4bea",
   "metadata": {},
   "source": [
    "### Checks for duplicate data"
   ]
  },
  {
   "cell_type": "code",
   "execution_count": 6,
   "id": "ff725e31",
   "metadata": {},
   "outputs": [
    {
     "data": {
      "text/plain": [
       "0"
      ]
     },
     "execution_count": 6,
     "metadata": {},
     "output_type": "execute_result"
    }
   ],
   "source": [
    "df.duplicated().sum()"
   ]
  },
  {
   "cell_type": "markdown",
   "id": "ebbb8394",
   "metadata": {},
   "source": [
    "### checks for columns with null values "
   ]
  },
  {
   "cell_type": "code",
   "execution_count": 7,
   "id": "e61a1e45",
   "metadata": {},
   "outputs": [
    {
     "data": {
      "text/plain": [
       "Glucose                                      0\n",
       "Cholesterol                                  0\n",
       "Hemoglobin                                   0\n",
       "Platelets                                    0\n",
       "White Blood Cells                            0\n",
       "Red Blood Cells                              0\n",
       "Hematocrit                                   0\n",
       "Mean Corpuscular Volume                      0\n",
       "Mean Corpuscular Hemoglobin                  0\n",
       "Mean Corpuscular Hemoglobin Concentration    0\n",
       "Insulin                                      0\n",
       "BMI                                          0\n",
       "Systolic Blood Pressure                      0\n",
       "Diastolic Blood Pressure                     0\n",
       "Triglycerides                                0\n",
       "HbA1c                                        0\n",
       "LDL Cholesterol                              0\n",
       "HDL Cholesterol                              0\n",
       "ALT                                          0\n",
       "AST                                          0\n",
       "Heart Rate                                   0\n",
       "Creatinine                                   0\n",
       "Troponin                                     0\n",
       "C-reactive Protein                           0\n",
       "Disease                                      0\n",
       "dtype: int64"
      ]
     },
     "execution_count": 7,
     "metadata": {},
     "output_type": "execute_result"
    }
   ],
   "source": [
    "df.isna().sum()"
   ]
  },
  {
   "cell_type": "code",
   "execution_count": 8,
   "id": "d83d46f0",
   "metadata": {},
   "outputs": [
    {
     "name": "stdout",
     "output_type": "stream",
     "text": [
      "<class 'pandas.core.frame.DataFrame'>\n",
      "RangeIndex: 486 entries, 0 to 485\n",
      "Data columns (total 25 columns):\n",
      " #   Column                                     Non-Null Count  Dtype  \n",
      "---  ------                                     --------------  -----  \n",
      " 0   Glucose                                    486 non-null    float64\n",
      " 1   Cholesterol                                486 non-null    float64\n",
      " 2   Hemoglobin                                 486 non-null    float64\n",
      " 3   Platelets                                  486 non-null    float64\n",
      " 4   White Blood Cells                          486 non-null    float64\n",
      " 5   Red Blood Cells                            486 non-null    float64\n",
      " 6   Hematocrit                                 486 non-null    float64\n",
      " 7   Mean Corpuscular Volume                    486 non-null    float64\n",
      " 8   Mean Corpuscular Hemoglobin                486 non-null    float64\n",
      " 9   Mean Corpuscular Hemoglobin Concentration  486 non-null    float64\n",
      " 10  Insulin                                    486 non-null    float64\n",
      " 11  BMI                                        486 non-null    float64\n",
      " 12  Systolic Blood Pressure                    486 non-null    float64\n",
      " 13  Diastolic Blood Pressure                   486 non-null    float64\n",
      " 14  Triglycerides                              486 non-null    float64\n",
      " 15  HbA1c                                      486 non-null    float64\n",
      " 16  LDL Cholesterol                            486 non-null    float64\n",
      " 17  HDL Cholesterol                            486 non-null    float64\n",
      " 18  ALT                                        486 non-null    float64\n",
      " 19  AST                                        486 non-null    float64\n",
      " 20  Heart Rate                                 486 non-null    float64\n",
      " 21  Creatinine                                 486 non-null    float64\n",
      " 22  Troponin                                   486 non-null    float64\n",
      " 23  C-reactive Protein                         486 non-null    float64\n",
      " 24  Disease                                    486 non-null    object \n",
      "dtypes: float64(24), object(1)\n",
      "memory usage: 95.1+ KB\n"
     ]
    }
   ],
   "source": [
    "df.info()"
   ]
  },
  {
   "cell_type": "code",
   "execution_count": 10,
   "id": "5d5d10d3",
   "metadata": {
    "scrolled": true
   },
   "outputs": [
    {
     "data": {
      "text/plain": [
       "<bound method DataFrame.info of       Glucose  Cholesterol  Hemoglobin  Platelets  White Blood Cells  \\\n",
       "0    0.001827     0.033693    0.114755   0.997927           0.562604   \n",
       "1    0.436679     0.972653    0.084998   0.180909           0.675736   \n",
       "2    0.545697     0.324815    0.584467   0.475748           0.558596   \n",
       "3    0.172994     0.050351    0.736000   0.782022           0.069435   \n",
       "4    0.758534     0.739968    0.597868   0.772683           0.875720   \n",
       "..        ...          ...         ...        ...                ...   \n",
       "481  0.985163     0.412960    0.529993   0.263765           0.431288   \n",
       "482  0.581914     0.629325    0.491644   0.901473           0.347797   \n",
       "483  0.066669     0.404558    0.591041   0.228401           0.127461   \n",
       "484  0.901444     0.430680    0.243853   0.825551           0.493884   \n",
       "485  0.877912     0.597809    0.730440   0.462307           0.498438   \n",
       "\n",
       "     Red Blood Cells  Hematocrit  Mean Corpuscular Volume  \\\n",
       "0           0.866499    0.578042                 0.914615   \n",
       "1           0.563889    0.798382                 0.670361   \n",
       "2           0.661007    0.934056                 0.381782   \n",
       "3           0.085219    0.032907                 0.460619   \n",
       "4           0.860265    0.486189                 0.486686   \n",
       "..               ...         ...                      ...   \n",
       "481         0.198882    0.581289                 0.701192   \n",
       "482         0.633286    0.698114                 0.516947   \n",
       "483         0.026670    0.847444                 0.279740   \n",
       "484         0.726299    0.660930                 0.445560   \n",
       "485         0.792822    0.976056                 0.883937   \n",
       "\n",
       "     Mean Corpuscular Hemoglobin  Mean Corpuscular Hemoglobin Concentration  \\\n",
       "0                       0.026864                                   0.038641   \n",
       "1                       0.376092                                   0.184890   \n",
       "2                       0.500342                                   0.531829   \n",
       "3                       0.785448                                   0.491495   \n",
       "4                       0.621048                                   0.191756   \n",
       "..                           ...                                        ...   \n",
       "481                     0.249410                                   0.246893   \n",
       "482                     0.674259                                   0.798153   \n",
       "483                     0.575425                                   0.156438   \n",
       "484                     0.349782                                   0.343069   \n",
       "485                     0.202147                                   0.930649   \n",
       "\n",
       "     ...     HbA1c  LDL Cholesterol  HDL Cholesterol       ALT       AST  \\\n",
       "0    ...  0.653230         0.186104         0.430398  0.016678  0.885352   \n",
       "1    ...  0.833540         0.153001         0.458533  0.401845  0.635969   \n",
       "2    ...  0.678901         0.220479         0.817151  0.690981  0.101633   \n",
       "3    ...  0.381500         0.459396         0.420154  0.798537  0.399236   \n",
       "4    ...  0.993381         0.272338         0.663579  0.265227  0.918847   \n",
       "..   ...       ...              ...              ...       ...       ...   \n",
       "481  ...  0.680556         0.048191         0.465272  0.066511  0.965544   \n",
       "482  ...  0.261767         0.482322         0.799523  0.807460  0.325313   \n",
       "483  ...  0.168146         0.763625         0.677782  0.890501  0.638825   \n",
       "484  ...  0.893448         0.500059         0.112250  0.548469  0.211496   \n",
       "485  ...  0.242163         0.783372         0.568568  0.784730  0.500928   \n",
       "\n",
       "     Heart Rate  Creatinine  Troponin  C-reactive Protein   Disease  \n",
       "0      0.652733    0.788235  0.054788            0.031313  Thalasse  \n",
       "1      0.574425    0.047025  0.607985            0.594123  Diabetes  \n",
       "2      0.855740    0.551124  0.413294            0.070909  Heart Di  \n",
       "3      0.324600    0.499504  0.436662            0.242766  Diabetes  \n",
       "4      0.804910    0.571119  0.188368            0.750848  Heart Di  \n",
       "..          ...         ...       ...                 ...       ...  \n",
       "481    0.015051    0.442730  0.196986            0.816038  Diabetes  \n",
       "482    0.825194    0.777866  0.415987            0.842804  Heart Di  \n",
       "483    0.559993    0.795478  0.669925            0.124874    Anemia  \n",
       "484    0.938355    0.463381  0.862921            0.658526  Diabetes  \n",
       "485    0.016738    0.104687  0.055181            0.049341  Diabetes  \n",
       "\n",
       "[486 rows x 25 columns]>"
      ]
     },
     "execution_count": 10,
     "metadata": {},
     "output_type": "execute_result"
    }
   ],
   "source": [
    "df.info"
   ]
  },
  {
   "cell_type": "markdown",
   "id": "df23065d",
   "metadata": {},
   "source": [
    "# Feature Engineering \n",
    "\n",
    "### Transforming Categorical data to Numerical  ( Disease Column)\n",
    "\n"
   ]
  },
  {
   "cell_type": "code",
   "execution_count": 11,
   "id": "26525c56",
   "metadata": {},
   "outputs": [],
   "source": [
    "from sklearn import preprocessing"
   ]
  },
  {
   "cell_type": "code",
   "execution_count": 12,
   "id": "31ae06f2",
   "metadata": {},
   "outputs": [],
   "source": [
    "label_encoder = preprocessing.LabelEncoder()"
   ]
  },
  {
   "cell_type": "code",
   "execution_count": 13,
   "id": "390deb96",
   "metadata": {},
   "outputs": [],
   "source": [
    "df[\"Disease\"] = label_encoder.fit_transform(df[\"Disease\"])"
   ]
  },
  {
   "cell_type": "code",
   "execution_count": 14,
   "id": "365eb2e0",
   "metadata": {
    "scrolled": true
   },
   "outputs": [
    {
     "data": {
      "text/plain": [
       "<bound method NDFrame.head of       Glucose  Cholesterol  Hemoglobin  Platelets  White Blood Cells  \\\n",
       "0    0.001827     0.033693    0.114755   0.997927           0.562604   \n",
       "1    0.436679     0.972653    0.084998   0.180909           0.675736   \n",
       "2    0.545697     0.324815    0.584467   0.475748           0.558596   \n",
       "3    0.172994     0.050351    0.736000   0.782022           0.069435   \n",
       "4    0.758534     0.739968    0.597868   0.772683           0.875720   \n",
       "..        ...          ...         ...        ...                ...   \n",
       "481  0.985163     0.412960    0.529993   0.263765           0.431288   \n",
       "482  0.581914     0.629325    0.491644   0.901473           0.347797   \n",
       "483  0.066669     0.404558    0.591041   0.228401           0.127461   \n",
       "484  0.901444     0.430680    0.243853   0.825551           0.493884   \n",
       "485  0.877912     0.597809    0.730440   0.462307           0.498438   \n",
       "\n",
       "     Red Blood Cells  Hematocrit  Mean Corpuscular Volume  \\\n",
       "0           0.866499    0.578042                 0.914615   \n",
       "1           0.563889    0.798382                 0.670361   \n",
       "2           0.661007    0.934056                 0.381782   \n",
       "3           0.085219    0.032907                 0.460619   \n",
       "4           0.860265    0.486189                 0.486686   \n",
       "..               ...         ...                      ...   \n",
       "481         0.198882    0.581289                 0.701192   \n",
       "482         0.633286    0.698114                 0.516947   \n",
       "483         0.026670    0.847444                 0.279740   \n",
       "484         0.726299    0.660930                 0.445560   \n",
       "485         0.792822    0.976056                 0.883937   \n",
       "\n",
       "     Mean Corpuscular Hemoglobin  Mean Corpuscular Hemoglobin Concentration  \\\n",
       "0                       0.026864                                   0.038641   \n",
       "1                       0.376092                                   0.184890   \n",
       "2                       0.500342                                   0.531829   \n",
       "3                       0.785448                                   0.491495   \n",
       "4                       0.621048                                   0.191756   \n",
       "..                           ...                                        ...   \n",
       "481                     0.249410                                   0.246893   \n",
       "482                     0.674259                                   0.798153   \n",
       "483                     0.575425                                   0.156438   \n",
       "484                     0.349782                                   0.343069   \n",
       "485                     0.202147                                   0.930649   \n",
       "\n",
       "     ...     HbA1c  LDL Cholesterol  HDL Cholesterol       ALT       AST  \\\n",
       "0    ...  0.653230         0.186104         0.430398  0.016678  0.885352   \n",
       "1    ...  0.833540         0.153001         0.458533  0.401845  0.635969   \n",
       "2    ...  0.678901         0.220479         0.817151  0.690981  0.101633   \n",
       "3    ...  0.381500         0.459396         0.420154  0.798537  0.399236   \n",
       "4    ...  0.993381         0.272338         0.663579  0.265227  0.918847   \n",
       "..   ...       ...              ...              ...       ...       ...   \n",
       "481  ...  0.680556         0.048191         0.465272  0.066511  0.965544   \n",
       "482  ...  0.261767         0.482322         0.799523  0.807460  0.325313   \n",
       "483  ...  0.168146         0.763625         0.677782  0.890501  0.638825   \n",
       "484  ...  0.893448         0.500059         0.112250  0.548469  0.211496   \n",
       "485  ...  0.242163         0.783372         0.568568  0.784730  0.500928   \n",
       "\n",
       "     Heart Rate  Creatinine  Troponin  C-reactive Protein  Disease  \n",
       "0      0.652733    0.788235  0.054788            0.031313        4  \n",
       "1      0.574425    0.047025  0.607985            0.594123        1  \n",
       "2      0.855740    0.551124  0.413294            0.070909        3  \n",
       "3      0.324600    0.499504  0.436662            0.242766        1  \n",
       "4      0.804910    0.571119  0.188368            0.750848        3  \n",
       "..          ...         ...       ...                 ...      ...  \n",
       "481    0.015051    0.442730  0.196986            0.816038        1  \n",
       "482    0.825194    0.777866  0.415987            0.842804        3  \n",
       "483    0.559993    0.795478  0.669925            0.124874        0  \n",
       "484    0.938355    0.463381  0.862921            0.658526        1  \n",
       "485    0.016738    0.104687  0.055181            0.049341        1  \n",
       "\n",
       "[486 rows x 25 columns]>"
      ]
     },
     "execution_count": 14,
     "metadata": {},
     "output_type": "execute_result"
    }
   ],
   "source": [
    "df.head"
   ]
  },
  {
   "cell_type": "markdown",
   "id": "4d81dfef",
   "metadata": {},
   "source": [
    "### Spinting The data into test and train"
   ]
  },
  {
   "cell_type": "code",
   "execution_count": 15,
   "id": "9ec4a900",
   "metadata": {},
   "outputs": [],
   "source": [
    "X =df.drop(\"Disease\", axis =1)\n",
    "y =df[\"Disease\"]"
   ]
  },
  {
   "cell_type": "code",
   "execution_count": 24,
   "id": "6d878341",
   "metadata": {},
   "outputs": [
    {
     "data": {
      "text/plain": [
       "Index(['Glucose', 'Cholesterol', 'Hemoglobin', 'Platelets',\n",
       "       'White Blood Cells', 'Red Blood Cells', 'Hematocrit',\n",
       "       'Mean Corpuscular Volume', 'Mean Corpuscular Hemoglobin',\n",
       "       'Mean Corpuscular Hemoglobin Concentration', 'Insulin', 'BMI',\n",
       "       'Systolic Blood Pressure', 'Diastolic Blood Pressure', 'Triglycerides',\n",
       "       'HbA1c', 'LDL Cholesterol', 'HDL Cholesterol', 'ALT', 'AST',\n",
       "       'Heart Rate', 'Creatinine', 'Troponin', 'C-reactive Protein'],\n",
       "      dtype='object')"
      ]
     },
     "execution_count": 24,
     "metadata": {},
     "output_type": "execute_result"
    }
   ],
   "source": [
    "X.columns "
   ]
  },
  {
   "cell_type": "code",
   "execution_count": 16,
   "id": "42b2c286",
   "metadata": {},
   "outputs": [],
   "source": [
    "from sklearn.model_selection import train_test_split"
   ]
  },
  {
   "cell_type": "code",
   "execution_count": 17,
   "id": "b66ef0c1",
   "metadata": {},
   "outputs": [],
   "source": [
    "X_train,X_test, y_train, y_test = train_test_split(X,y, test_size=0.30)"
   ]
  },
  {
   "cell_type": "markdown",
   "id": "cb63bfdf",
   "metadata": {},
   "source": [
    "### Data Standardization"
   ]
  },
  {
   "cell_type": "code",
   "execution_count": 18,
   "id": "290ede42",
   "metadata": {},
   "outputs": [],
   "source": [
    "from sklearn.preprocessing import StandardScaler\n",
    "\n",
    "scaler = StandardScaler()\n",
    "Scaled_X_train = scaler.fit_transform(X_train)\n",
    "Scaled_X_test = scaler.transform(X_test)"
   ]
  },
  {
   "cell_type": "code",
   "execution_count": 19,
   "id": "8ca0d6e9",
   "metadata": {},
   "outputs": [
    {
     "data": {
      "text/plain": [
       "Disease\n",
       "1    294\n",
       "0     84\n",
       "4     48\n",
       "3     39\n",
       "5     16\n",
       "2      5\n",
       "Name: count, dtype: int64"
      ]
     },
     "execution_count": 19,
     "metadata": {},
     "output_type": "execute_result"
    }
   ],
   "source": [
    "df.Disease.value_counts()"
   ]
  },
  {
   "cell_type": "markdown",
   "id": "a6cda7f4",
   "metadata": {},
   "source": [
    "### choosing the Columns for prediction"
   ]
  },
  {
   "cell_type": "code",
   "execution_count": 20,
   "id": "93cd1fc4",
   "metadata": {},
   "outputs": [],
   "source": [
    "df1= df[df['Disease'] <2]"
   ]
  },
  {
   "cell_type": "code",
   "execution_count": 21,
   "id": "429ec027",
   "metadata": {
    "scrolled": true
   },
   "outputs": [
    {
     "data": {
      "text/plain": [
       "Disease\n",
       "1    294\n",
       "0     84\n",
       "Name: count, dtype: int64"
      ]
     },
     "execution_count": 21,
     "metadata": {},
     "output_type": "execute_result"
    }
   ],
   "source": [
    "df1.Disease.value_counts()"
   ]
  },
  {
   "cell_type": "markdown",
   "id": "1d93d510",
   "metadata": {},
   "source": [
    "### importing RandomForestClassifier"
   ]
  },
  {
   "cell_type": "code",
   "execution_count": 22,
   "id": "4e14fc82",
   "metadata": {},
   "outputs": [
    {
     "data": {
      "text/html": [
       "<style>#sk-container-id-1 {color: black;}#sk-container-id-1 pre{padding: 0;}#sk-container-id-1 div.sk-toggleable {background-color: white;}#sk-container-id-1 label.sk-toggleable__label {cursor: pointer;display: block;width: 100%;margin-bottom: 0;padding: 0.3em;box-sizing: border-box;text-align: center;}#sk-container-id-1 label.sk-toggleable__label-arrow:before {content: \"▸\";float: left;margin-right: 0.25em;color: #696969;}#sk-container-id-1 label.sk-toggleable__label-arrow:hover:before {color: black;}#sk-container-id-1 div.sk-estimator:hover label.sk-toggleable__label-arrow:before {color: black;}#sk-container-id-1 div.sk-toggleable__content {max-height: 0;max-width: 0;overflow: hidden;text-align: left;background-color: #f0f8ff;}#sk-container-id-1 div.sk-toggleable__content pre {margin: 0.2em;color: black;border-radius: 0.25em;background-color: #f0f8ff;}#sk-container-id-1 input.sk-toggleable__control:checked~div.sk-toggleable__content {max-height: 200px;max-width: 100%;overflow: auto;}#sk-container-id-1 input.sk-toggleable__control:checked~label.sk-toggleable__label-arrow:before {content: \"▾\";}#sk-container-id-1 div.sk-estimator input.sk-toggleable__control:checked~label.sk-toggleable__label {background-color: #d4ebff;}#sk-container-id-1 div.sk-label input.sk-toggleable__control:checked~label.sk-toggleable__label {background-color: #d4ebff;}#sk-container-id-1 input.sk-hidden--visually {border: 0;clip: rect(1px 1px 1px 1px);clip: rect(1px, 1px, 1px, 1px);height: 1px;margin: -1px;overflow: hidden;padding: 0;position: absolute;width: 1px;}#sk-container-id-1 div.sk-estimator {font-family: monospace;background-color: #f0f8ff;border: 1px dotted black;border-radius: 0.25em;box-sizing: border-box;margin-bottom: 0.5em;}#sk-container-id-1 div.sk-estimator:hover {background-color: #d4ebff;}#sk-container-id-1 div.sk-parallel-item::after {content: \"\";width: 100%;border-bottom: 1px solid gray;flex-grow: 1;}#sk-container-id-1 div.sk-label:hover label.sk-toggleable__label {background-color: #d4ebff;}#sk-container-id-1 div.sk-serial::before {content: \"\";position: absolute;border-left: 1px solid gray;box-sizing: border-box;top: 0;bottom: 0;left: 50%;z-index: 0;}#sk-container-id-1 div.sk-serial {display: flex;flex-direction: column;align-items: center;background-color: white;padding-right: 0.2em;padding-left: 0.2em;position: relative;}#sk-container-id-1 div.sk-item {position: relative;z-index: 1;}#sk-container-id-1 div.sk-parallel {display: flex;align-items: stretch;justify-content: center;background-color: white;position: relative;}#sk-container-id-1 div.sk-item::before, #sk-container-id-1 div.sk-parallel-item::before {content: \"\";position: absolute;border-left: 1px solid gray;box-sizing: border-box;top: 0;bottom: 0;left: 50%;z-index: -1;}#sk-container-id-1 div.sk-parallel-item {display: flex;flex-direction: column;z-index: 1;position: relative;background-color: white;}#sk-container-id-1 div.sk-parallel-item:first-child::after {align-self: flex-end;width: 50%;}#sk-container-id-1 div.sk-parallel-item:last-child::after {align-self: flex-start;width: 50%;}#sk-container-id-1 div.sk-parallel-item:only-child::after {width: 0;}#sk-container-id-1 div.sk-dashed-wrapped {border: 1px dashed gray;margin: 0 0.4em 0.5em 0.4em;box-sizing: border-box;padding-bottom: 0.4em;background-color: white;}#sk-container-id-1 div.sk-label label {font-family: monospace;font-weight: bold;display: inline-block;line-height: 1.2em;}#sk-container-id-1 div.sk-label-container {text-align: center;}#sk-container-id-1 div.sk-container {/* jupyter's `normalize.less` sets `[hidden] { display: none; }` but bootstrap.min.css set `[hidden] { display: none !important; }` so we also need the `!important` here to be able to override the default hidden behavior on the sphinx rendered scikit-learn.org. See: https://github.com/scikit-learn/scikit-learn/issues/21755 */display: inline-block !important;position: relative;}#sk-container-id-1 div.sk-text-repr-fallback {display: none;}</style><div id=\"sk-container-id-1\" class=\"sk-top-container\"><div class=\"sk-text-repr-fallback\"><pre>RandomForestClassifier()</pre><b>In a Jupyter environment, please rerun this cell to show the HTML representation or trust the notebook. <br />On GitHub, the HTML representation is unable to render, please try loading this page with nbviewer.org.</b></div><div class=\"sk-container\" hidden><div class=\"sk-item\"><div class=\"sk-estimator sk-toggleable\"><input class=\"sk-toggleable__control sk-hidden--visually\" id=\"sk-estimator-id-1\" type=\"checkbox\" checked><label for=\"sk-estimator-id-1\" class=\"sk-toggleable__label sk-toggleable__label-arrow\">RandomForestClassifier</label><div class=\"sk-toggleable__content\"><pre>RandomForestClassifier()</pre></div></div></div></div></div>"
      ],
      "text/plain": [
       "RandomForestClassifier()"
      ]
     },
     "execution_count": 22,
     "metadata": {},
     "output_type": "execute_result"
    }
   ],
   "source": [
    "from sklearn.ensemble import RandomForestClassifier\n",
    "RFC = RandomForestClassifier()\n",
    "RFC.fit(X_train, y_train)"
   ]
  },
  {
   "cell_type": "code",
   "execution_count": 23,
   "id": "19bdf1c1",
   "metadata": {},
   "outputs": [
    {
     "name": "stdout",
     "output_type": "stream",
     "text": [
      "1.0\n"
     ]
    }
   ],
   "source": [
    "print (RFC.score(X_train, y_train))"
   ]
  },
  {
   "cell_type": "code",
   "execution_count": 32,
   "id": "4838c5e6",
   "metadata": {},
   "outputs": [
    {
     "name": "stdout",
     "output_type": "stream",
     "text": [
      "The patient seems to be have a disease:(\n"
     ]
    },
    {
     "name": "stderr",
     "output_type": "stream",
     "text": [
      "C:\\Users\\ADDIS\\anaconda3\\Lib\\site-packages\\sklearn\\base.py:464: UserWarning: X does not have valid feature names, but RandomForestClassifier was fitted with feature names\n",
      "  warnings.warn(\n"
     ]
    }
   ],
   "source": [
    "input=(0.727786475,0.410975438,0.722863022,0.922817727,0.333770755,0.406864372,0.80955366,0.93245416,0.552191546,0.538668338,0.627658406,0.832414806,0.852965599,0.203725527,0.155969759,0.708025365,\n",
    "       0.46811736,0.79406151,0.386357083,0.441824247,0.207200749,0.008831336,0.271237937,0.726768639)\n",
    "input_as_numpy=np.asarray(input)\n",
    "input_reshaped=input_as_numpy.reshape(1,-1)\n",
    "pre1=RFC.predict(input_reshaped)\n",
    "if(pre1==1): \n",
    "  print(\"The patient seems to be have a disease:(\")\n",
    "else:\n",
    "  print(\"The patient seems to be Normal:)\")"
   ]
  },
  {
   "cell_type": "code",
   "execution_count": 28,
   "id": "583b336b",
   "metadata": {},
   "outputs": [
    {
     "data": {
      "text/plain": [
       "Disease\n",
       "1    294\n",
       "0     84\n",
       "4     48\n",
       "3     39\n",
       "5     16\n",
       "2      5\n",
       "Name: count, dtype: int64"
      ]
     },
     "execution_count": 28,
     "metadata": {},
     "output_type": "execute_result"
    }
   ],
   "source": [
    "df.Disease.value_counts()"
   ]
  },
  {
   "cell_type": "code",
   "execution_count": 29,
   "id": "264cf157",
   "metadata": {},
   "outputs": [
    {
     "name": "stdout",
     "output_type": "stream",
     "text": [
      "The patient seems to be have heart disease:(\n"
     ]
    },
    {
     "name": "stderr",
     "output_type": "stream",
     "text": [
      "C:\\Users\\ADDIS\\anaconda3\\Lib\\site-packages\\sklearn\\base.py:464: UserWarning: X does not have valid feature names, but RandomForestClassifier was fitted with feature names\n",
      "  warnings.warn(\n"
     ]
    }
   ],
   "source": [
    "input=(1,1,1,1,1,1,1,1,1,1,1,1,1,1,1,1,1,1,1,1,1,1,1,1)\n",
    "input_as_numpy=np.asarray(input)\n",
    "input_reshaped=input_as_numpy.reshape(1,-1)\n",
    "pre1=RFC.predict(input_reshaped)\n",
    "if(pre1==1): \n",
    "  print(\"The patient seems to be have heart disease:(\")\n",
    "else:\n",
    "  print(\"The patient seems to be Normal:)\")"
   ]
  },
  {
   "cell_type": "code",
   "execution_count": null,
   "id": "9d61cb34",
   "metadata": {},
   "outputs": [],
   "source": []
  },
  {
   "cell_type": "markdown",
   "id": "f8f3a742",
   "metadata": {},
   "source": [
    "### Importing Support Vector Machine and HyperTuning"
   ]
  },
  {
   "cell_type": "code",
   "execution_count": 41,
   "id": "a93f41c0",
   "metadata": {},
   "outputs": [],
   "source": [
    "from sklearn.svm import SVC\n",
    "import numpy as np\n",
    "SVC_mode = SVC()"
   ]
  },
  {
   "cell_type": "code",
   "execution_count": 45,
   "id": "74fbd0ab",
   "metadata": {},
   "outputs": [
    {
     "name": "stdout",
     "output_type": "stream",
     "text": [
      "Best Hyperparameters: {'C': 10, 'gamma': 'scale', 'kernel': 'rbf'}\n",
      "Validation Accuracy: 0.7346938775510204\n"
     ]
    }
   ],
   "source": [
    "from sklearn.model_selection import train_test_split\n",
    "\n",
    "X_train, X_val, y_train, y_val = train_test_split(X, y, test_size=0.2, random_state=42)\n",
    "\n",
    "\n",
    "param_grid = {\n",
    "    'C': [0.1, 1, 10],\n",
    "    'kernel': ['linear', 'rbf', 'poly'],\n",
    "    'gamma': ['scale', 'auto']\n",
    "}\n",
    "\n",
    "svm_classifier = SVC()\n",
    "\n",
    "grid_search = GridSearchCV(svm_classifier, param_grid, cv=5, scoring='accuracy')\n",
    "grid_search.fit(X_train, y_train)\n",
    "\n",
    "# Get the best hyperparameters\n",
    "best_params = grid_search.best_params_\n",
    "print(\"Best Hyperparameters:\", best_params)\n",
    "\n",
    "\n",
    "best_model = grid_search.best_estimator_\n",
    "\n",
    "\n",
    "validation_accuracy = best_model.score(X_val, y_val)\n",
    "print(\"Validation Accuracy:\", validation_accuracy)\n"
   ]
  },
  {
   "cell_type": "markdown",
   "id": "87b25ab4",
   "metadata": {},
   "source": [
    "##### HyperTunning SVM"
   ]
  },
  {
   "cell_type": "code",
   "execution_count": 46,
   "id": "23ec68f7",
   "metadata": {},
   "outputs": [
    {
     "name": "stdout",
     "output_type": "stream",
     "text": [
      "Best Hyperparameters: {'C': 5.2477466025838915, 'gamma': 'scale', 'kernel': 'rbf'}\n",
      "Validation Accuracy: 0.7346938775510204\n"
     ]
    }
   ],
   "source": [
    "from sklearn.model_selection import RandomizedSearchCV\n",
    "from scipy.stats import uniform\n",
    "\n",
    "# Define the parameter distributions for random search\n",
    "param_distributions = {\n",
    "    'C': uniform(loc=0, scale=10),  # Uniform distribution between 0 and 10 for C\n",
    "    'kernel': ['linear', 'rbf', 'poly'],\n",
    "    'gamma': ['scale', 'auto']\n",
    "}\n",
    "\n",
    "# Instantiate SVM classifier\n",
    "svm_classifier = SVC()\n",
    "\n",
    "# Perform random search with cross-validation\n",
    "random_search = RandomizedSearchCV(svm_classifier, param_distributions, n_iter=10, cv=5, scoring='accuracy', random_state=42)\n",
    "random_search.fit(X_train, y_train)\n",
    "\n",
    "# Get the best hyperparameters\n",
    "best_params = random_search.best_params_\n",
    "print(\"Best Hyperparameters:\", best_params)\n",
    "\n",
    "# Get the best model\n",
    "best_model = random_search.best_estimator_\n",
    "\n",
    "# Evaluate the best model on validation data\n",
    "validation_accuracy = best_model.score(X_val, y_val)\n",
    "print(\"Validation Accuracy:\", validation_accuracy)\n"
   ]
  },
  {
   "cell_type": "markdown",
   "id": "35998927",
   "metadata": {},
   "source": [
    "# Importing RandomForestClassifier and HyperTunning the model"
   ]
  },
  {
   "cell_type": "code",
   "execution_count": null,
   "id": "8446286f",
   "metadata": {},
   "outputs": [],
   "source": []
  },
  {
   "cell_type": "code",
   "execution_count": 49,
   "id": "d80b4d17",
   "metadata": {},
   "outputs": [
    {
     "name": "stderr",
     "output_type": "stream",
     "text": [
      "C:\\Users\\ADDIS\\anaconda3\\Lib\\site-packages\\sklearn\\model_selection\\_validation.py:425: FitFailedWarning: \n",
      "80 fits failed out of a total of 250.\n",
      "The score on these train-test partitions for these parameters will be set to nan.\n",
      "If these failures are not expected, you can try to debug them by setting error_score='raise'.\n",
      "\n",
      "Below are more details about the failures:\n",
      "--------------------------------------------------------------------------------\n",
      "80 fits failed with the following error:\n",
      "Traceback (most recent call last):\n",
      "  File \"C:\\Users\\ADDIS\\anaconda3\\Lib\\site-packages\\sklearn\\model_selection\\_validation.py\", line 732, in _fit_and_score\n",
      "    estimator.fit(X_train, y_train, **fit_params)\n",
      "  File \"C:\\Users\\ADDIS\\anaconda3\\Lib\\site-packages\\sklearn\\base.py\", line 1144, in wrapper\n",
      "    estimator._validate_params()\n",
      "  File \"C:\\Users\\ADDIS\\anaconda3\\Lib\\site-packages\\sklearn\\base.py\", line 637, in _validate_params\n",
      "    validate_parameter_constraints(\n",
      "  File \"C:\\Users\\ADDIS\\anaconda3\\Lib\\site-packages\\sklearn\\utils\\_param_validation.py\", line 95, in validate_parameter_constraints\n",
      "    raise InvalidParameterError(\n",
      "sklearn.utils._param_validation.InvalidParameterError: The 'max_features' parameter of RandomForestClassifier must be an int in the range [1, inf), a float in the range (0.0, 1.0], a str among {'log2', 'sqrt'} or None. Got 'auto' instead.\n",
      "\n",
      "  warnings.warn(some_fits_failed_message, FitFailedWarning)\n",
      "C:\\Users\\ADDIS\\anaconda3\\Lib\\site-packages\\sklearn\\model_selection\\_search.py:976: UserWarning: One or more of the test scores are non-finite: [       nan 0.61088911 0.82993673        nan        nan 0.73449883\n",
      " 0.899334   0.81188811 0.7990343  0.61861472 0.88924409 0.76033966\n",
      " 0.71388611 0.67525808        nan 0.66753247        nan        nan\n",
      " 0.91751582 0.92527473 0.84019314        nan        nan 0.77575758\n",
      "        nan        nan 0.86087246 0.66733267 0.69333999 0.88404928\n",
      " 0.64685315        nan 0.91232101 0.66496836 0.61341991 0.76283716\n",
      " 0.76809857 0.7990343         nan        nan 0.61858142        nan\n",
      " 0.81441891 0.88911089 0.77319347 0.78874459        nan        nan\n",
      " 0.79130869 0.82464202]\n",
      "  warnings.warn(\n"
     ]
    },
    {
     "name": "stdout",
     "output_type": "stream",
     "text": [
      "Best Hyperparameters: {'bootstrap': False, 'max_depth': 10, 'max_features': 'log2', 'min_samples_leaf': 1, 'min_samples_split': 4, 'n_estimators': 150}\n",
      "Validation Accuracy: 0.9591836734693877\n"
     ]
    }
   ],
   "source": [
    "from sklearn.ensemble import RandomForestClassifier\n",
    "from sklearn.model_selection import RandomizedSearchCV\n",
    "from scipy.stats import randint\n",
    "\n",
    "# Define the parameter distributions for random search\n",
    "param_distributions = {\n",
    "    'n_estimators': randint(50, 200),  # Number of trees in the forest\n",
    "    'max_depth': [None, 5, 10, 20, 30, 40, 50],  # Maximum depth of the trees\n",
    "    'min_samples_split': randint(2, 20),  # Minimum number of samples required to split an internal node\n",
    "    'min_samples_leaf': randint(1, 20),  # Minimum number of samples required to be at a leaf node\n",
    "    'max_features': ['auto', 'sqrt', 'log2'],  # Number of features to consider when looking for the best split\n",
    "    'bootstrap': [True, False]  # Whether bootstrap samples are used when building trees\n",
    "}\n",
    "\n",
    "# Instantiate Random Forest classifier\n",
    "rf_classifier = RandomForestClassifier()\n",
    "\n",
    "# Perform random search with cross-validation\n",
    "random_search = RandomizedSearchCV(rf_classifier, param_distributions, n_iter=50, cv=5, scoring='accuracy', random_state=42)\n",
    "random_search.fit(X_train, y_train)\n",
    "\n",
    "# Get the best hyperparameters\n",
    "best_params = random_search.best_params_\n",
    "print(\"Best Hyperparameters:\", best_params)\n",
    "\n",
    "# Get the best model\n",
    "best_model = random_search.best_estimator_\n",
    "\n",
    "# Evaluate the best model on validation data\n",
    "validation_accuracy = best_model.score(X_val, y_val)\n",
    "print(\"Validation Accuracy:\", validation_accuracy)\n"
   ]
  },
  {
   "cell_type": "markdown",
   "id": "6d3f44e4",
   "metadata": {},
   "source": [
    "##  Predictions by the Hyper_tuned Random Forest Classifier"
   ]
  },
  {
   "cell_type": "code",
   "execution_count": 53,
   "id": "19dbe627",
   "metadata": {},
   "outputs": [
    {
     "name": "stdout",
     "output_type": "stream",
     "text": [
      "Predictions: [4 1 3 1 3 3 1 1 3 1 0 4 1 1 1 4 1 1 1 0 3 4 4 1 1 4 1 1 1 1 4 3 1 1 1 1 1\n",
      " 1 3 4 1 4 1 5 1 0 3 1 1 1 1 1 1 1 0 1 1 1 1 1 0 1 1 5 1 5 0 1 0 0 1 5 1 1\n",
      " 1 1 1 1 1 0 1 3 0 1 3 1 3 0 1 4 0 0 0 1 5 1 1 0 4 1 1 1 4 0 5 1 1 3 4 0 3\n",
      " 1 1 1 0 0 4 1 1 1 0 3 1 0 1 1 0 1 4 1 1 1 1 1 1 1 1 1 1 4 0 1 1 3 4 1 1 1\n",
      " 0 3 1 4 1 1 1 4 0 5 1 3 0 3 1 1 1 1 1 1 1 1 1 1 1 1 1 0 0 4 1 0 1 1 1 1 1\n",
      " 1 0 1 1 1 4 0 0 1 1 3 1 0 0 1 1 1 4 3 4 1 0 1 4 1 1 1 0 1 1 1 1 1 4 1 1 3\n",
      " 1 3 1 1 1 4 0 1 1 1 1 1 1 1 1 3 1 1 1 1 0 1 1 4 1 1 1 1 4 1 4 1 1 1 1 1 1\n",
      " 0 1 0 1 1 1 4 4 0 1 0 1 0 0 1 1 1 1 5 3 1 4 1 1 1 4 0 4 1 1 1 1 0 3 0 4 1\n",
      " 1 1 1 0 1 3 0 4 1 4 1 0 0 5 4 4 1 1 1 1 0 1 1 1 1 1 0 1 1 1 1 1 0 1 1 3 1\n",
      " 1 1 0 3 1 1 1 1 5 1 1 1 1 1 1 1 0 4 1 0 1 0 3 1 4 1 0 0 1 1 5 1 1 3 1 1 1\n",
      " 1 3 1 1 0 1 1 1 5 1 5 1 0 1 3 1 0 3 1 4 1 0 0 0 1 1 5 1 1 1 5 4 1 4 1 1 0\n",
      " 1 0 1 3 1 3 1 3 1 3 0 1 1 0 1 1 0 1 3 0 1 0 0 1 1 0 1 1 1 1 1 1 0 1 1 4 1\n",
      " 1 3 1 4 1 1 1 1 1 0 1 5 4 3 1 1 1 1 1 0 0 1 1 1 0 1 0 1 0 0 1 1 1 4 0 1 1\n",
      " 1 3 0 1 1]\n"
     ]
    }
   ],
   "source": [
    "\n",
    "train_feature_names = X_train.columns\n",
    "\n",
    "\n",
    "df_reordered = df[train_feature_names]\n",
    "\n",
    "predictions = best_model.predict(df_reordered)\n",
    "\n",
    "print(\"Predictions:\", predictions)\n"
   ]
  },
  {
   "cell_type": "code",
   "execution_count": null,
   "id": "983b9103",
   "metadata": {},
   "outputs": [],
   "source": []
  },
  {
   "cell_type": "code",
   "execution_count": 54,
   "id": "ad6c9fef",
   "metadata": {
    "scrolled": true
   },
   "outputs": [
    {
     "name": "stdout",
     "output_type": "stream",
     "text": [
      "      Glucose  Cholesterol  Hemoglobin  Platelets  White Blood Cells  \\\n",
      "0    0.001827     0.033693    0.114755   0.997927           0.562604   \n",
      "1    0.436679     0.972653    0.084998   0.180909           0.675736   \n",
      "2    0.545697     0.324815    0.584467   0.475748           0.558596   \n",
      "3    0.172994     0.050351    0.736000   0.782022           0.069435   \n",
      "4    0.758534     0.739968    0.597868   0.772683           0.875720   \n",
      "..        ...          ...         ...        ...                ...   \n",
      "481  0.985163     0.412960    0.529993   0.263765           0.431288   \n",
      "482  0.581914     0.629325    0.491644   0.901473           0.347797   \n",
      "483  0.066669     0.404558    0.591041   0.228401           0.127461   \n",
      "484  0.901444     0.430680    0.243853   0.825551           0.493884   \n",
      "485  0.877912     0.597809    0.730440   0.462307           0.498438   \n",
      "\n",
      "     Red Blood Cells  Hematocrit  Mean Corpuscular Volume  \\\n",
      "0           0.866499    0.578042                 0.914615   \n",
      "1           0.563889    0.798382                 0.670361   \n",
      "2           0.661007    0.934056                 0.381782   \n",
      "3           0.085219    0.032907                 0.460619   \n",
      "4           0.860265    0.486189                 0.486686   \n",
      "..               ...         ...                      ...   \n",
      "481         0.198882    0.581289                 0.701192   \n",
      "482         0.633286    0.698114                 0.516947   \n",
      "483         0.026670    0.847444                 0.279740   \n",
      "484         0.726299    0.660930                 0.445560   \n",
      "485         0.792822    0.976056                 0.883937   \n",
      "\n",
      "     Mean Corpuscular Hemoglobin  Mean Corpuscular Hemoglobin Concentration  \\\n",
      "0                       0.026864                                   0.038641   \n",
      "1                       0.376092                                   0.184890   \n",
      "2                       0.500342                                   0.531829   \n",
      "3                       0.785448                                   0.491495   \n",
      "4                       0.621048                                   0.191756   \n",
      "..                           ...                                        ...   \n",
      "481                     0.249410                                   0.246893   \n",
      "482                     0.674259                                   0.798153   \n",
      "483                     0.575425                                   0.156438   \n",
      "484                     0.349782                                   0.343069   \n",
      "485                     0.202147                                   0.930649   \n",
      "\n",
      "     ...  LDL Cholesterol  HDL Cholesterol       ALT       AST  Heart Rate  \\\n",
      "0    ...         0.186104         0.430398  0.016678  0.885352    0.652733   \n",
      "1    ...         0.153001         0.458533  0.401845  0.635969    0.574425   \n",
      "2    ...         0.220479         0.817151  0.690981  0.101633    0.855740   \n",
      "3    ...         0.459396         0.420154  0.798537  0.399236    0.324600   \n",
      "4    ...         0.272338         0.663579  0.265227  0.918847    0.804910   \n",
      "..   ...              ...              ...       ...       ...         ...   \n",
      "481  ...         0.048191         0.465272  0.066511  0.965544    0.015051   \n",
      "482  ...         0.482322         0.799523  0.807460  0.325313    0.825194   \n",
      "483  ...         0.763625         0.677782  0.890501  0.638825    0.559993   \n",
      "484  ...         0.500059         0.112250  0.548469  0.211496    0.938355   \n",
      "485  ...         0.783372         0.568568  0.784730  0.500928    0.016738   \n",
      "\n",
      "     Creatinine  Troponin  C-reactive Protein  Disease  Predictions  \n",
      "0      0.788235  0.054788            0.031313        4            4  \n",
      "1      0.047025  0.607985            0.594123        1            1  \n",
      "2      0.551124  0.413294            0.070909        3            3  \n",
      "3      0.499504  0.436662            0.242766        1            1  \n",
      "4      0.571119  0.188368            0.750848        3            3  \n",
      "..          ...       ...                 ...      ...          ...  \n",
      "481    0.442730  0.196986            0.816038        1            1  \n",
      "482    0.777866  0.415987            0.842804        3            3  \n",
      "483    0.795478  0.669925            0.124874        0            0  \n",
      "484    0.463381  0.862921            0.658526        1            1  \n",
      "485    0.104687  0.055181            0.049341        1            1  \n",
      "\n",
      "[486 rows x 26 columns]\n"
     ]
    }
   ],
   "source": [
    "df['Predictions'] = predictions\n",
    "\n",
    "print(df)\n"
   ]
  },
  {
   "cell_type": "markdown",
   "id": "518762f4",
   "metadata": {},
   "source": [
    "### Showing Rows Classified as 0 (Non Diseased)"
   ]
  },
  {
   "cell_type": "code",
   "execution_count": 55,
   "id": "80a5be11",
   "metadata": {},
   "outputs": [
    {
     "name": "stdout",
     "output_type": "stream",
     "text": [
      "      Glucose  Cholesterol  Hemoglobin  Platelets  White Blood Cells  \\\n",
      "10   0.429506     0.069428    0.553611   0.374915           0.486910   \n",
      "19   0.420877     0.180248    0.355277   0.758440           0.114527   \n",
      "45   0.470204     0.398952    0.177757   0.725143           0.060868   \n",
      "54   0.758508     0.452749    0.742386   0.097974           0.146276   \n",
      "60   0.162565     0.354183    0.270516   0.289358           0.284957   \n",
      "..        ...          ...         ...        ...                ...   \n",
      "470  0.440010     0.129316    0.165754   0.790109           0.011290   \n",
      "472  0.114095     0.635890    0.203636   0.056433           0.392786   \n",
      "473  0.466060     0.010878    0.898481   0.437407           0.249315   \n",
      "478  0.692680     0.635104    0.413241   0.219047           0.228417   \n",
      "483  0.066669     0.404558    0.591041   0.228401           0.127461   \n",
      "\n",
      "     Red Blood Cells  Hematocrit  Mean Corpuscular Volume  \\\n",
      "10          0.123948    0.104000                 0.689636   \n",
      "19          0.719875    0.004556                 0.866937   \n",
      "45          0.898443    0.504248                 0.878978   \n",
      "54          0.608113    0.242504                 0.792971   \n",
      "60          0.694647    0.134982                 0.638419   \n",
      "..               ...         ...                      ...   \n",
      "470         0.320865    0.725692                 0.181897   \n",
      "472         0.142088    0.104027                 0.828781   \n",
      "473         0.121836    0.899986                 0.664400   \n",
      "478         0.014994    0.099198                 0.346472   \n",
      "483         0.026670    0.847444                 0.279740   \n",
      "\n",
      "     Mean Corpuscular Hemoglobin  Mean Corpuscular Hemoglobin Concentration  \\\n",
      "10                      0.777572                                   0.396699   \n",
      "19                      0.318854                                   0.921005   \n",
      "45                      0.690338                                   0.913947   \n",
      "54                      0.407975                                   0.371348   \n",
      "60                      0.036488                                   0.225532   \n",
      "..                           ...                                        ...   \n",
      "470                     0.926729                                   0.016384   \n",
      "472                     0.217090                                   0.779530   \n",
      "473                     0.448926                                   0.336916   \n",
      "478                     0.762153                                   0.701571   \n",
      "483                     0.575425                                   0.156438   \n",
      "\n",
      "     ...  LDL Cholesterol  HDL Cholesterol       ALT       AST  Heart Rate  \\\n",
      "10   ...         0.230119         0.508986  0.672625  0.355311    0.644734   \n",
      "19   ...         0.915598         0.234601  0.446164  0.285339    0.585223   \n",
      "45   ...         0.279546         0.726177  0.450611  0.240829    0.523742   \n",
      "54   ...         0.184658         0.892987  0.522546  0.384286    0.158588   \n",
      "60   ...         0.628754         0.587058  0.178716  0.315704    0.087294   \n",
      "..   ...              ...              ...       ...       ...         ...   \n",
      "470  ...         0.328037         0.060455  0.984157  0.816210    0.131656   \n",
      "472  ...         0.953943         0.018708  0.617343  0.172391    0.414155   \n",
      "473  ...         0.847549         0.149684  0.492460  0.875359    0.214346   \n",
      "478  ...         0.374790         0.852496  0.474190  0.492374    0.384463   \n",
      "483  ...         0.763625         0.677782  0.890501  0.638825    0.559993   \n",
      "\n",
      "     Creatinine  Troponin  C-reactive Protein  Disease  Predictions  \n",
      "10     0.797857  0.799971            0.974650        0            0  \n",
      "19     0.483146  0.851605            0.168131        0            0  \n",
      "45     0.262341  0.694932            0.577853        0            0  \n",
      "54     0.580232  0.897496            0.390950        0            0  \n",
      "60     0.668799  0.615988            0.137590        0            0  \n",
      "..          ...       ...                 ...      ...          ...  \n",
      "470    0.923195  0.385243            0.640333        0            0  \n",
      "472    0.531972  0.918571            0.786312        0            0  \n",
      "473    0.918670  0.742625            0.552026        0            0  \n",
      "478    0.593925  0.188947            0.361573        0            0  \n",
      "483    0.795478  0.669925            0.124874        0            0  \n",
      "\n",
      "[85 rows x 26 columns]\n"
     ]
    }
   ],
   "source": [
    "\n",
    "predictions_0 = df[df['Predictions'] == 0]\n",
    "\n",
    "print(predictions_0)\n"
   ]
  },
  {
   "cell_type": "markdown",
   "id": "7d54693d",
   "metadata": {},
   "source": [
    "### Showing Rows Classified as 1 (Diseased)"
   ]
  },
  {
   "cell_type": "code",
   "execution_count": 57,
   "id": "d8800e21",
   "metadata": {
    "scrolled": true
   },
   "outputs": [
    {
     "name": "stdout",
     "output_type": "stream",
     "text": [
      "      Glucose  Cholesterol  Hemoglobin  Platelets  White Blood Cells  \\\n",
      "1    0.436679     0.972653    0.084998   0.180909           0.675736   \n",
      "3    0.172994     0.050351    0.736000   0.782022           0.069435   \n",
      "6    0.677636     0.435037    0.572571   0.965847           0.010580   \n",
      "7    0.105103     0.177558    0.169041   0.679138           0.886839   \n",
      "9    0.448025     0.974133    0.143226   0.471179           0.161697   \n",
      "..        ...          ...         ...        ...                ...   \n",
      "479  0.463255     0.870426    0.907227   0.559129           0.468201   \n",
      "480  0.596137     0.071545    0.654680   0.980213           0.503338   \n",
      "481  0.985163     0.412960    0.529993   0.263765           0.431288   \n",
      "484  0.901444     0.430680    0.243853   0.825551           0.493884   \n",
      "485  0.877912     0.597809    0.730440   0.462307           0.498438   \n",
      "\n",
      "     Red Blood Cells  Hematocrit  Mean Corpuscular Volume  \\\n",
      "1           0.563889    0.798382                 0.670361   \n",
      "3           0.085219    0.032907                 0.460619   \n",
      "6           0.753719    0.262138                 0.789804   \n",
      "7           0.714977    0.197501                 0.778653   \n",
      "9           0.610458    0.470737                 0.275112   \n",
      "..               ...         ...                      ...   \n",
      "479         0.839285    0.256706                 0.534278   \n",
      "480         0.987548    0.775286                 0.201622   \n",
      "481         0.198882    0.581289                 0.701192   \n",
      "484         0.726299    0.660930                 0.445560   \n",
      "485         0.792822    0.976056                 0.883937   \n",
      "\n",
      "     Mean Corpuscular Hemoglobin  Mean Corpuscular Hemoglobin Concentration  \\\n",
      "1                       0.376092                                   0.184890   \n",
      "3                       0.785448                                   0.491495   \n",
      "6                       0.541149                                   0.550569   \n",
      "7                       0.319864                                   0.285914   \n",
      "9                       0.702463                                   0.423561   \n",
      "..                           ...                                        ...   \n",
      "479                     0.310702                                   0.194211   \n",
      "480                     0.263525                                   0.356106   \n",
      "481                     0.249410                                   0.246893   \n",
      "484                     0.349782                                   0.343069   \n",
      "485                     0.202147                                   0.930649   \n",
      "\n",
      "     ...  LDL Cholesterol  HDL Cholesterol       ALT       AST  Heart Rate  \\\n",
      "1    ...         0.153001         0.458533  0.401845  0.635969    0.574425   \n",
      "3    ...         0.459396         0.420154  0.798537  0.399236    0.324600   \n",
      "6    ...         0.141203         0.355437  0.468168  0.493548    0.213971   \n",
      "7    ...         0.305473         0.867800  0.213141  0.094877    0.120487   \n",
      "9    ...         0.934164         0.094991  0.795212  0.456302    0.122741   \n",
      "..   ...              ...              ...       ...       ...         ...   \n",
      "479  ...         0.042883         0.322038  0.463566  0.551280    0.833492   \n",
      "480  ...         0.798004         0.976612  0.552450  0.382807    0.754216   \n",
      "481  ...         0.048191         0.465272  0.066511  0.965544    0.015051   \n",
      "484  ...         0.500059         0.112250  0.548469  0.211496    0.938355   \n",
      "485  ...         0.783372         0.568568  0.784730  0.500928    0.016738   \n",
      "\n",
      "     Creatinine  Troponin  C-reactive Protein  Disease  Predictions  \n",
      "1      0.047025  0.607985            0.594123        1            1  \n",
      "3      0.499504  0.436662            0.242766        1            1  \n",
      "6      0.059427  0.836447            0.231356        1            1  \n",
      "7      0.211855  0.376829            0.645990        1            1  \n",
      "9      0.820810  0.045505            0.562205        1            1  \n",
      "..          ...       ...                 ...      ...          ...  \n",
      "479    0.860896  0.005714            0.928058        1            1  \n",
      "480    0.234421  0.355834            0.132999        1            1  \n",
      "481    0.442730  0.196986            0.816038        1            1  \n",
      "484    0.463381  0.862921            0.658526        1            1  \n",
      "485    0.104687  0.055181            0.049341        1            1  \n",
      "\n",
      "[296 rows x 26 columns]\n"
     ]
    }
   ],
   "source": [
    "predictions_1 = df[df['Predictions'] == 1]\n",
    "\n",
    "print(predictions_1)\n"
   ]
  },
  {
   "cell_type": "markdown",
   "id": "67495751",
   "metadata": {},
   "source": [
    "# Testing my Prediction Code"
   ]
  },
  {
   "cell_type": "code",
   "execution_count": 60,
   "id": "e8f6f0e0",
   "metadata": {},
   "outputs": [
    {
     "name": "stdout",
     "output_type": "stream",
     "text": [
      "The patient seems to have disease :(\n"
     ]
    },
    {
     "name": "stderr",
     "output_type": "stream",
     "text": [
      "C:\\Users\\ADDIS\\anaconda3\\Lib\\site-packages\\sklearn\\base.py:464: UserWarning: X does not have valid feature names, but RandomForestClassifier was fitted with feature names\n",
      "  warnings.warn(\n"
     ]
    }
   ],
   "source": [
    "\n",
    "input_data = [1, 1, 1, 1, 1, 1, 1, 1, 1, 1, 1, 1, 1, 1, 1, 1, 1, 1, 1, 1, 1, 1, 1,1]\n",
    "\n",
    "input_as_numpy = np.asarray(input_data)\n",
    "\n",
    "input_reshaped = input_as_numpy.reshape(1, -1)\n",
    "\n",
    "prediction = RFC.predict(input_reshaped)\n",
    "\n",
    "if prediction == 1:\n",
    "    print(\"The patient seems to have disease :(\")\n",
    "else:\n",
    "    print(\"The patient seems to be Normal :)\")\n"
   ]
  },
  {
   "cell_type": "markdown",
   "id": "cc26b32a",
   "metadata": {},
   "source": [
    "# Feeding the the trained Hyper-Tuned  Model with the TEST data and it Predicted correctly"
   ]
  },
  {
   "cell_type": "code",
   "execution_count": 62,
   "id": "4e012212",
   "metadata": {},
   "outputs": [
    {
     "name": "stdout",
     "output_type": "stream",
     "text": [
      "The patient seems to have disease :(\n"
     ]
    },
    {
     "name": "stderr",
     "output_type": "stream",
     "text": [
      "C:\\Users\\ADDIS\\anaconda3\\Lib\\site-packages\\sklearn\\base.py:464: UserWarning: X does not have valid feature names, but RandomForestClassifier was fitted with feature names\n",
      "  warnings.warn(\n"
     ]
    }
   ],
   "source": [
    "input_data = [0.727786475,0.410975438,0.722863022,0.922817727,0.333770755,0.406864372,0.80955366,0.93245416,0.552191546,0.538668338,0.627658406,0.832414806,0.852965599,0.203725527,0.155969759,0.708025365,\n",
    "       0.46811736,0.79406151,0.386357083,0.441824247,0.207200749,0.008831336,0.271237937,0.726768639]\n",
    "\n",
    "input_as_numpy = np.asarray(input_data)\n",
    "\n",
    "input_reshaped = input_as_numpy.reshape(1, -1)\n",
    "\n",
    "prediction = RFC.predict(input_reshaped)\n",
    "\n",
    "if prediction == 1:\n",
    "    print(\"The patient seems to have disease :(\")\n",
    "else:\n",
    "    print(\"The patient seems to be Normal :)\")\n",
    "\n"
   ]
  },
  {
   "cell_type": "markdown",
   "id": "d802a5bc",
   "metadata": {},
   "source": [
    "# Feeding the Algorithm with data from TRAIN DATA SET and it predicted correctly ( Diseased and Non Diseased)"
   ]
  },
  {
   "cell_type": "code",
   "execution_count": 63,
   "id": "f2684e71",
   "metadata": {},
   "outputs": [
    {
     "name": "stdout",
     "output_type": "stream",
     "text": [
      "The patient seems to be Normal :)\n"
     ]
    },
    {
     "name": "stderr",
     "output_type": "stream",
     "text": [
      "C:\\Users\\ADDIS\\anaconda3\\Lib\\site-packages\\sklearn\\base.py:464: UserWarning: X does not have valid feature names, but RandomForestClassifier was fitted with feature names\n",
      "  warnings.warn(\n"
     ]
    }
   ],
   "source": [
    "input_data = [0.739596713,0.650198388,0.713630986,0.868491241,0.687433028,0.529895399,0.290005909,0.631045018,0.001327858,0.79582887,0.034129122,0.071774199,0.185595597,0.07145461,0.653472376,0.502664779,0.215560238,0.512940563,0.064187347,0.61082651,0.939484854,0.095511528,0.465956967,0.769230075]\n",
    "\n",
    "\n",
    "# Convert input data to numpy array\n",
    "input_as_numpy = np.asarray(input_data)\n",
    "\n",
    "# Reshape input data\n",
    "input_reshaped = input_as_numpy.reshape(1, -1)\n",
    "\n",
    "# Make predictions\n",
    "prediction = RFC.predict(input_reshaped)\n",
    "\n",
    "# Interpret the prediction\n",
    "if prediction == 1:\n",
    "    print(\"The patient seems to have disease :(\")\n",
    "else:\n",
    "    print(\"The patient seems to be Normal :)\")\n"
   ]
  },
  {
   "cell_type": "code",
   "execution_count": 67,
   "id": "8f647a7e",
   "metadata": {},
   "outputs": [
    {
     "name": "stdout",
     "output_type": "stream",
     "text": [
      "The patient seems to have disease :(\n"
     ]
    },
    {
     "name": "stderr",
     "output_type": "stream",
     "text": [
      "C:\\Users\\ADDIS\\anaconda3\\Lib\\site-packages\\sklearn\\base.py:464: UserWarning: X does not have valid feature names, but RandomForestClassifier was fitted with feature names\n",
      "  warnings.warn(\n"
     ]
    }
   ],
   "source": [
    " input_data = [0.121786313,0.023058437,0.94489324,0.905372145,0.507710985,0.40303319,0.164216445,0.307553206,0.207938382,0.505561858,0.571161502,0.839270508,0.580902575,0.556037486,0.47774212,0.856809908,0.652465332,0.106960917,0.94254879,0.344260902,0.66636811,0.659059785,0.816982046,0.401165962]\n",
    "\n",
    "    # Convert input data to numpy array\n",
    "input_as_numpy = np.asarray(input_data)\n",
    "\n",
    "# Reshape input data\n",
    "input_reshaped = input_as_numpy.reshape(1, -1)\n",
    "\n",
    "# Make predictions\n",
    "prediction = RFC.predict(input_reshaped)\n",
    "\n",
    "# Interpret the prediction\n",
    "if prediction == 1:\n",
    "    print(\"The patient seems to have disease :(\")\n",
    "else:\n",
    "    print(\"The patient seems to be Normal :)\")"
   ]
  },
  {
   "cell_type": "code",
   "execution_count": null,
   "id": "7bd2f0be",
   "metadata": {},
   "outputs": [],
   "source": []
  }
 ],
 "metadata": {
  "kernelspec": {
   "display_name": "Python 3 (ipykernel)",
   "language": "python",
   "name": "python3"
  },
  "language_info": {
   "codemirror_mode": {
    "name": "ipython",
    "version": 3
   },
   "file_extension": ".py",
   "mimetype": "text/x-python",
   "name": "python",
   "nbconvert_exporter": "python",
   "pygments_lexer": "ipython3",
   "version": "3.11.5"
  }
 },
 "nbformat": 4,
 "nbformat_minor": 5
}
